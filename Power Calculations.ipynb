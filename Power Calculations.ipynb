{
 "cells": [
  {
   "cell_type": "code",
   "execution_count": 20,
   "id": "5c98db40",
   "metadata": {},
   "outputs": [
    {
     "name": "stdout",
     "output_type": "stream",
     "text": [
      "1.53186256125 power needed to hover in Watts\n",
      "0.41401690844594596 current needed to acheive hover in Amps\n"
     ]
    }
   ],
   "source": [
    "import numpy as np\n",
    "\n",
    "#Intial Conditions\n",
    "m = 0.2777 #mass in kg\n",
    "k = 0.00005 #thrust factor/coeffecient\n",
    "whover = 116.69 #rpm of motors to hover\n",
    "wcircle = 116.71 #rpm of motors to go in a circle\n",
    "g = 9.81 #gravity\n",
    "thover = 120 #seconds\n",
    "tcircle = 60 #seconds\n",
    "h = 1 #altitiude in meters\n",
    "l = 0.075 #length of propellers in meters\n",
    "mprop = 0.001 #mass of propellers in kg\n",
    "Vmotor = 3.7 #max load voltage of the motor\n",
    "\n",
    "#Hover\n",
    "#with the propellers to be 1-D lines\n",
    "\n",
    "Ip = (1/12)*(l**2)*mprop\n",
    "\n",
    "#rotational energy of propellers\n",
    "\n",
    "Phover = ((1/2) * Ip * (whover**2))*thover*4\n",
    "\n",
    "print(Phover,'power needed to hover in Watts')\n",
    "print(Phover/Vmotor,'current needed to acheive hover in Amps')\n",
    "\n",
    "#given our max current draw of the motors we have selected are 1.750 Amps this very possible"
   ]
  },
  {
   "cell_type": "code",
   "execution_count": 21,
   "id": "7600133a",
   "metadata": {},
   "outputs": [
    {
     "name": "stdout",
     "output_type": "stream",
     "text": [
      "0.7661938556249999 power needed to travel in a circle in Watts\n",
      "0.20707942043918914 current needed to travel in a circle in Amps\n"
     ]
    }
   ],
   "source": [
    "#circle\n",
    "\n",
    "Pcircle = ((1/2) * Ip * (wcircle**2))*tcircle*4\n",
    "\n",
    "print(Pcircle,'power needed to travel in a circle in Watts')\n",
    "print(Pcircle/Vmotor,'current needed to travel in a circle in Amps')\n",
    "\n",
    "#given that the needed values are less it also is possible"
   ]
  }
 ],
 "metadata": {
  "kernelspec": {
   "display_name": "Python 3 (ipykernel)",
   "language": "python",
   "name": "python3"
  },
  "language_info": {
   "codemirror_mode": {
    "name": "ipython",
    "version": 3
   },
   "file_extension": ".py",
   "mimetype": "text/x-python",
   "name": "python",
   "nbconvert_exporter": "python",
   "pygments_lexer": "ipython3",
   "version": "3.11.5"
  }
 },
 "nbformat": 4,
 "nbformat_minor": 5
}
